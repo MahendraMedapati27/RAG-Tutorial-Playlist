{
 "cells": [
  {
   "cell_type": "markdown",
   "metadata": {},
   "source": [
    "# Vector Embeddings: From Text to Mathematics\n",
    "\n",
    "## Introduction\n",
    "This notebook demonstrates how to work with vector embeddings - the mathematical foundation of RAG systems. We'll explore both OpenAI's embeddings and open-source alternatives using Sentence Transformers.\n",
    "\n",
    "## Installing Required Libraries\n",
    "First, let's install all the necessary Python libraries. This includes:\n",
    "- `openai`: For accessing OpenAI's embedding models\n",
    "- `sentence-transformers`: Open-source embedding models\n",
    "- `numpy`: For numerical operations\n",
    "- `matplotlib`: For visualization\n",
    "- `scikit-learn`: For similarity calculations and dimensionality reduction\n",
    "- `python-dotenv`: For environment variable management"
   ]
  },
  {
   "cell_type": "code",
   "execution_count": null,
   "metadata": {},
   "outputs": [],
   "source": [
    "! pip install openai sentence-transformers numpy matplotlib scikit-learn python-dotenv"
   ]
  },
  {
   "cell_type": "markdown",
   "metadata": {},
   "source": [
    "## Importing Libraries and Setting Up Environment\n",
    "\n",
    "We'll import all necessary libraries and set up our environment. Make sure you have your OpenAI API key stored in a `.env` file or as an environment variable.\n",
    "\n",
    "**Key Libraries:**\n",
    "- **OpenAI**: For commercial embedding models\n",
    "- **SentenceTransformers**: For free, local embedding models\n",
    "- **NumPy**: For array operations and mathematical calculations\n",
    "- **Cosine Similarity**: To measure semantic similarity between embeddings\n",
    "- **sklearn**: For decompostion into PCA"
   ]
  },
  {
   "cell_type": "code",
   "execution_count": 103,
   "metadata": {},
   "outputs": [],
   "source": [
    "import openai\n",
    "from sentence_transformers import SentenceTransformer\n",
    "import numpy as np\n",
    "from sklearn.metrics.pairwise import cosine_similarity\n",
    "import re\n",
    "from sklearn.decomposition import PCA"
   ]
  },
  {
   "cell_type": "code",
   "execution_count": 54,
   "metadata": {},
   "outputs": [],
   "source": [
    "openai.api_key=\"API_KEY\""
   ]
  },
  {
   "cell_type": "markdown",
   "metadata": {},
   "source": [
    "## Creating OpenAI Embeddings\n",
    "\n",
    "This function creates embeddings using OpenAI's embedding models. We're using the `text-embedding-3-small` model which provides:\n",
    "- 1,536 dimensions per embedding\n",
    "- High-quality semantic representations\n",
    "- Optimized for similarity search tasks\n",
    "\n",
    "**Note**: You'll need an OpenAI API key for this to work. The cost is typically very low (pennies per thousand texts)."
   ]
  },
  {
   "cell_type": "code",
   "execution_count": 55,
   "metadata": {},
   "outputs": [],
   "source": [
    "def get_openai_embeddings(text, model = 'text-embedding-3-small'):\n",
    "    response = openai.embeddings.create(\n",
    "        input = text,\n",
    "        model = model\n",
    "    )\n",
    "    return response.data[0].embedding"
   ]
  },
  {
   "cell_type": "markdown",
   "metadata": {},
   "source": [
    "## Sample Text Data for Testing\n",
    "\n",
    "We'll use these sample texts to demonstrate how embeddings capture semantic similarity:\n",
    "- Two sentences about cats (different words, same meaning)\n",
    "- One sentence about dogs (related but different topic)\n",
    "- Two sentences about AI/ML (technical domain, similar concepts)\n",
    "\n",
    "This variety will help us see how embeddings group similar meanings together."
   ]
  },
  {
   "cell_type": "code",
   "execution_count": 56,
   "metadata": {},
   "outputs": [],
   "source": [
    "sample_texts = [\n",
    "    'The cat sits on the mat',\n",
    "    'A feline rests on the carpet',\n",
    "    'Dogs are great pets',\n",
    "    'Artificial intelligence is transforming technology',\n",
    "    'Machine learning revolutionizes software development'\n",
    "]"
   ]
  },
  {
   "cell_type": "markdown",
   "metadata": {},
   "source": [
    "## Generating OpenAI Embeddings\n",
    "\n",
    "Let's create embeddings for our sample texts and examine their properties:\n",
    "- **Embedding Length**: Each text becomes a 1,536-dimensional vector\n",
    "- **Value Range**: Numbers typically range between -1 and 1\n",
    "- **Semantic Encoding**: Similar texts should produce similar vectors\n",
    "\n",
    "Pay attention to how each text is converted into a numerical representation."
   ]
  },
  {
   "cell_type": "code",
   "execution_count": 57,
   "metadata": {},
   "outputs": [
    {
     "name": "stdout",
     "output_type": "stream",
     "text": [
      "Text: The cat sits on the mat\n",
      "Embedding Length: 1536\n",
      "First 5 values: [-0.039671290665864944, -0.05845513939857483, 0.012683428823947906, -0.002083485247567296, 0.039176326245069504]\n",
      "Text: A feline rests on the carpet\n",
      "Embedding Length: 1536\n",
      "First 5 values: [-0.00980573333799839, -0.07922207564115524, -0.012255650013685226, 0.04426830634474754, -0.011891800910234451]\n",
      "Text: Dogs are great pets\n",
      "Embedding Length: 1536\n",
      "First 5 values: [0.036922238767147064, -0.006009977776557207, -0.009725624695420265, 0.05655447766184807, 0.020228447392582893]\n",
      "Text: Artificial intelligence is transforming technology\n",
      "Embedding Length: 1536\n",
      "First 5 values: [0.0023555962834507227, -0.015442242845892906, 0.0052911690436303616, 0.001766697270795703, 0.0487774983048439]\n",
      "Text: Machine learning revolutionizes software development\n",
      "Embedding Length: 1536\n",
      "First 5 values: [-0.009222925640642643, -0.020683810114860535, 0.003550163237378001, 0.006967663764953613, 0.05149611085653305]\n"
     ]
    }
   ],
   "source": [
    "openai_embeddings = []\n",
    "for text in sample_texts:\n",
    "    embedding = get_openai_embeddings(text)\n",
    "    openai_embeddings.append(embedding)\n",
    "    print(f'Text: {text}')\n",
    "    print(f'Embedding Length: {len(embedding)}')\n",
    "    print(f'First 5 values: {embedding[:5]}')"
   ]
  },
  {
   "cell_type": "markdown",
   "metadata": {},
   "source": [
    "## Measuring Semantic Similarity\n",
    "\n",
    "This function calculates cosine similarity between all pairs of embeddings. Cosine similarity measures the angle between vectors:\n",
    "- **1.0**: Identical meaning\n",
    "- **0.0**: Completely unrelated\n",
    "- **-1.0**: Opposite meanings\n",
    "\n",
    "The similarity matrix will show us how well embeddings capture semantic relationships."
   ]
  },
  {
   "cell_type": "code",
   "execution_count": 68,
   "metadata": {},
   "outputs": [],
   "source": [
    "def calcualte_similarity_matrix(embeddings, texts):\n",
    "    similarity_matrix = cosine_similarity(embeddings)\n",
    "    print('\\nSimilarity Matrix:')\n",
    "    print('(1.0 = identical, 0.0 = unrelated, -1.0 = opposite)\\n')\n",
    "    for i,text in enumerate(texts):\n",
    "        print(f'{text}:')\n",
    "        for j,other_text in enumerate(texts):\n",
    "            if i != j:\n",
    "                print(f'{other_text}: {similarity_matrix[i][j]:.3f}')\n",
    "        print('\\n')"
   ]
  },
  {
   "cell_type": "code",
   "execution_count": 69,
   "metadata": {},
   "outputs": [
    {
     "name": "stdout",
     "output_type": "stream",
     "text": [
      "\n",
      "Similarity Matrix:\n",
      "(1.0 = identical, 0.0 = unrelated, -1.0 = opposite)\n",
      "\n",
      "The cat sits on the mat:\n",
      "A feline rests on the carpet: 0.633\n",
      "Dogs are great pets: 0.226\n",
      "Artificial intelligence is transforming technology: 0.060\n",
      "Machine learning revolutionizes software development: 0.066\n",
      "\n",
      "\n",
      "A feline rests on the carpet:\n",
      "The cat sits on the mat: 0.633\n",
      "Dogs are great pets: 0.241\n",
      "Artificial intelligence is transforming technology: 0.052\n",
      "Machine learning revolutionizes software development: 0.072\n",
      "\n",
      "\n",
      "Dogs are great pets:\n",
      "The cat sits on the mat: 0.226\n",
      "A feline rests on the carpet: 0.241\n",
      "Artificial intelligence is transforming technology: 0.115\n",
      "Machine learning revolutionizes software development: 0.128\n",
      "\n",
      "\n",
      "Artificial intelligence is transforming technology:\n",
      "The cat sits on the mat: 0.060\n",
      "A feline rests on the carpet: 0.052\n",
      "Dogs are great pets: 0.115\n",
      "Machine learning revolutionizes software development: 0.530\n",
      "\n",
      "\n",
      "Machine learning revolutionizes software development:\n",
      "The cat sits on the mat: 0.066\n",
      "A feline rests on the carpet: 0.072\n",
      "Dogs are great pets: 0.128\n",
      "Artificial intelligence is transforming technology: 0.530\n",
      "\n",
      "\n"
     ]
    }
   ],
   "source": [
    "similarity_matrix = calcualte_similarity_matrix(openai_embeddings, sample_texts)"
   ]
  },
  {
   "cell_type": "markdown",
   "metadata": {},
   "source": [
    "## Analyzing Similarity Results\n",
    "\n",
    "Now let's calculate and examine the similarity matrix. Look for:\n",
    "- High similarity (>0.7) between the two cat sentences\n",
    "- Moderate similarity (~0.4-0.6) between related but different topics\n",
    "- High similarity between the AI/ML sentences\n",
    "- Lower similarity between completely different topics\n",
    "\n",
    "This demonstrates that embeddings capture meaning beyond just word matching."
   ]
  },
  {
   "cell_type": "markdown",
   "metadata": {},
   "source": [
    "## Open-Source Alternative: Sentence Transformers\n",
    "\n",
    "Now let's try Sentence Transformers, a free alternative that runs locally:\n",
    "- **Model**: `all-MiniLM-L6-v2` - fast and efficient\n",
    "- **Dimensions**: 384 (smaller than OpenAI's 1,536)\n",
    "- **Advantages**: Free, private, no API calls needed\n",
    "- **Trade-offs**: Slightly lower quality than latest commercial models\n",
    "\n",
    "The model will download automatically on first use (~90MB)."
   ]
  },
  {
   "cell_type": "code",
   "execution_count": 78,
   "metadata": {},
   "outputs": [
    {
     "name": "stdout",
     "output_type": "stream",
     "text": [
      "OpenAI embeddings: 1536 dimensions\n",
      "Sentence Transformers: 384 dimensions\n"
     ]
    }
   ],
   "source": [
    "# Load a pre-trained sentence transformer model\n",
    "model = SentenceTransformer('all-MiniLM-L6-v2')\n",
    "\n",
    "def get_sentence_transformer_embedding(texts):\n",
    "    \"\"\"Get embeddings from Sentence Transformers\"\"\"\n",
    "    embeddings = model.encode(texts)\n",
    "    return embeddings\n",
    "\n",
    "# Create embeddings\n",
    "st_embeddings = get_sentence_transformer_embedding(sample_texts)\n",
    "\n",
    "# Compare dimensions\n",
    "print(f'OpenAI embeddings: {len(openai_embeddings[0])} dimensions')\n",
    "print(f'Sentence Transformers: {st_embeddings.shape[1]} dimensions')"
   ]
  },
  {
   "cell_type": "code",
   "execution_count": 72,
   "metadata": {},
   "outputs": [
    {
     "name": "stdout",
     "output_type": "stream",
     "text": [
      "Text: The cat sits on the mat\n",
      "Embedding Length: 5\n",
      "First 5 values: [[ 0.13489069 -0.03206337 -0.02033523 ...  0.04674225  0.01492448\n",
      "   0.0586335 ]\n",
      " [ 0.10853077 -0.01404398  0.04354559 ...  0.05513833  0.04589896\n",
      "  -0.01095773]\n",
      " [-0.00174971 -0.02411854  0.097723   ...  0.09554524  0.05103692\n",
      "   0.06033277]\n",
      " [ 0.01783543  0.02670838  0.07502455 ... -0.03676512  0.09385739\n",
      "  -0.05011703]\n",
      " [-0.00586967 -0.03053891  0.05954926 ...  0.00095071  0.06504414\n",
      "  -0.01215227]]\n",
      "Text: A feline rests on the carpet\n",
      "Embedding Length: 5\n",
      "First 5 values: [[ 0.13489069 -0.03206337 -0.02033523 ...  0.04674225  0.01492448\n",
      "   0.0586335 ]\n",
      " [ 0.10853077 -0.01404398  0.04354559 ...  0.05513833  0.04589896\n",
      "  -0.01095773]\n",
      " [-0.00174971 -0.02411854  0.097723   ...  0.09554524  0.05103692\n",
      "   0.06033277]\n",
      " [ 0.01783543  0.02670838  0.07502455 ... -0.03676512  0.09385739\n",
      "  -0.05011703]\n",
      " [-0.00586967 -0.03053891  0.05954926 ...  0.00095071  0.06504414\n",
      "  -0.01215227]]\n",
      "Text: Dogs are great pets\n",
      "Embedding Length: 5\n",
      "First 5 values: [[ 0.13489069 -0.03206337 -0.02033523 ...  0.04674225  0.01492448\n",
      "   0.0586335 ]\n",
      " [ 0.10853077 -0.01404398  0.04354559 ...  0.05513833  0.04589896\n",
      "  -0.01095773]\n",
      " [-0.00174971 -0.02411854  0.097723   ...  0.09554524  0.05103692\n",
      "   0.06033277]\n",
      " [ 0.01783543  0.02670838  0.07502455 ... -0.03676512  0.09385739\n",
      "  -0.05011703]\n",
      " [-0.00586967 -0.03053891  0.05954926 ...  0.00095071  0.06504414\n",
      "  -0.01215227]]\n",
      "Text: Artificial intelligence is transforming technology\n",
      "Embedding Length: 5\n",
      "First 5 values: [[ 0.13489069 -0.03206337 -0.02033523 ...  0.04674225  0.01492448\n",
      "   0.0586335 ]\n",
      " [ 0.10853077 -0.01404398  0.04354559 ...  0.05513833  0.04589896\n",
      "  -0.01095773]\n",
      " [-0.00174971 -0.02411854  0.097723   ...  0.09554524  0.05103692\n",
      "   0.06033277]\n",
      " [ 0.01783543  0.02670838  0.07502455 ... -0.03676512  0.09385739\n",
      "  -0.05011703]\n",
      " [-0.00586967 -0.03053891  0.05954926 ...  0.00095071  0.06504414\n",
      "  -0.01215227]]\n",
      "Text: Machine learning revolutionizes software development\n",
      "Embedding Length: 5\n",
      "First 5 values: [[ 0.13489069 -0.03206337 -0.02033523 ...  0.04674225  0.01492448\n",
      "   0.0586335 ]\n",
      " [ 0.10853077 -0.01404398  0.04354559 ...  0.05513833  0.04589896\n",
      "  -0.01095773]\n",
      " [-0.00174971 -0.02411854  0.097723   ...  0.09554524  0.05103692\n",
      "   0.06033277]\n",
      " [ 0.01783543  0.02670838  0.07502455 ... -0.03676512  0.09385739\n",
      "  -0.05011703]\n",
      " [-0.00586967 -0.03053891  0.05954926 ...  0.00095071  0.06504414\n",
      "  -0.01215227]]\n"
     ]
    }
   ],
   "source": [
    "st_embeddings = []\n",
    "for text in sample_texts:\n",
    "    # Create embeddings\n",
    "    st_embedding = get_sentence_transformer_embedding(sample_texts)\n",
    "    st_embeddings.append(st_embedding)\n",
    "    print(f'Text: {text}')\n",
    "    print(f'Embedding Length: {len(st_embedding)}')\n",
    "    print(f'First 5 values: {st_embedding[:5]}')"
   ]
  },
  {
   "cell_type": "markdown",
   "metadata": {},
   "source": [
    "## Performance Optimization: Batch Processing\n",
    "\n",
    "**Why Batch Processing Matters:**\n",
    "Batch processing is crucial for efficiency when working with many texts:\n",
    "- **API Efficiency**: Reduces number of API calls by 100x\n",
    "- **Cost Savings**: Lower API costs due to fewer requests\n",
    "- **Speed**: Significantly faster processing times\n",
    "- **Rate Limits**: Helps avoid hitting API rate limits\n",
    "\n",
    "**Comparison:**\n",
    "- ❌ **Individual Processing**: One API call per text\n",
    "- ✅ **Batch Processing**: One API call for multiple texts"
   ]
  },
  {
   "cell_type": "code",
   "execution_count": 80,
   "metadata": {},
   "outputs": [
    {
     "name": "stdout",
     "output_type": "stream",
     "text": [
      "🚫 Starting inefficient individual API calls...\n",
      "Processing item 1/5 individually...\n",
      "Processing item 2/5 individually...\n",
      "Processing item 3/5 individually...\n",
      "Processing item 4/5 individually...\n",
      "Processing item 5/5 individually...\n",
      "⏱️ Individual processing completed in 2.84 seconds.\n",
      "\n",
      "🚀 Starting efficient batch processing with batch size = 100...\n",
      "Processing batch 1 (5 items)...\n",
      "✅ Batch processing completed in 1.07 seconds.\n",
      "\n",
      "⚡ Using Sentence Transformers (automatic batching)...\n",
      "✅ Sentence Transformers processing completed.\n",
      "\n"
     ]
    }
   ],
   "source": [
    "import openai\n",
    "import time\n",
    "\n",
    "# Inefficient: Processing one by one\n",
    "print(\"🚫 Starting inefficient individual API calls...\")\n",
    "embeddings = []\n",
    "start_time = time.time()\n",
    "for i, text in enumerate(sample_texts):\n",
    "    print(f\"Processing item {i+1}/{len(sample_texts)} individually...\")\n",
    "    embedding = get_openai_embeddings(text)  # Individual API call\n",
    "    embeddings.append(embedding)\n",
    "print(f\"⏱️ Individual processing completed in {time.time() - start_time:.2f} seconds.\\n\")\n",
    "\n",
    "# Efficient: Batch processing\n",
    "def get_openai_embeddings_batch(texts, batch_size=100):\n",
    "    \"\"\"Process texts in batches for efficiency\"\"\"\n",
    "    all_embeddings = []\n",
    "    print(f\"🚀 Starting efficient batch processing with batch size = {batch_size}...\")\n",
    "    start_time = time.time()\n",
    "    for i in range(0, len(texts), batch_size):\n",
    "        batch = texts[i:i + batch_size]\n",
    "        print(f\"Processing batch {i//batch_size + 1} ({len(batch)} items)...\")\n",
    "        response = openai.embeddings.create(\n",
    "            input=batch,\n",
    "            model='text-embedding-3-small'\n",
    "        )\n",
    "        batch_embeddings = [item.embedding for item in response.data]\n",
    "        all_embeddings.extend(batch_embeddings)\n",
    "    print(f\"✅ Batch processing completed in {time.time() - start_time:.2f} seconds.\\n\")\n",
    "    return all_embeddings\n",
    "\n",
    "# Run efficient batch version\n",
    "batched_embeddings = get_openai_embeddings_batch(sample_texts)\n",
    "\n",
    "# Sentence Transformers: automatic batching\n",
    "print(\"⚡ Using Sentence Transformers (automatic batching)...\")\n",
    "st_embeddings = model.encode(sample_texts)\n",
    "print(\"✅ Sentence Transformers processing completed.\\n\")\n"
   ]
  },
  {
   "cell_type": "markdown",
   "metadata": {},
   "source": [
    "## Performance Optimization: Caching System\n",
    "\n",
    "**Why Caching is Essential:**\n",
    "Embeddings are expensive to compute, so caching saves:\n",
    "- **Time**: Avoid recomputing identical texts\n",
    "- **Money**: Reduce API calls and costs\n",
    "- **Resources**: Less computational overhead\n",
    "\n",
    "**Our Cache Features:**\n",
    "- **Persistent Storage**: Saves cache to disk using pickle\n",
    "- **Hash-based Keys**: Uses MD5 hashes for efficient lookup\n",
    "- **Model Differentiation**: Separate cache entries for different models\n",
    "- **Automatic Management**: Loads and saves cache automatically"
   ]
  },
  {
   "cell_type": "code",
   "execution_count": 81,
   "metadata": {},
   "outputs": [],
   "source": [
    "import pickle\n",
    "import hashlib\n",
    "\n",
    "class EmbeddingCache:\n",
    "    def __init__(self, cache_file='embeddings_cache.pkl'):\n",
    "        self.cache_file = cache_file\n",
    "        self.cache = self._load_cache()\n",
    "        print(f\"📁 Loaded cache with {len(self.cache)} entries.\")\n",
    "\n",
    "    def _load_cache(self):\n",
    "        try:\n",
    "            with open(self.cache_file, 'rb') as f:\n",
    "                return pickle.load(f)\n",
    "        except FileNotFoundError:\n",
    "            print(\"⚠️ No cache file found. Starting fresh.\")\n",
    "            return {}\n",
    "\n",
    "    def _save_cache(self):\n",
    "        with open(self.cache_file, 'wb') as f:\n",
    "            pickle.dump(self.cache, f)\n",
    "        print(\"💾 Cache saved.\")\n",
    "\n",
    "    def get_embedding(self, text, model='openai'):\n",
    "        # Create unique hash key for the text\n",
    "        text_hash = hashlib.md5(text.encode()).hexdigest()\n",
    "        cache_key = f\"{model}_{text_hash}\"\n",
    "\n",
    "        # Check cache first\n",
    "        if cache_key in self.cache:\n",
    "            print(f\"✅ Cache hit for model: {model}\")\n",
    "            return self.cache[cache_key]\n",
    "        \n",
    "        print(f\"🧠 Generating new embedding for model: {model}\")\n",
    "\n",
    "        # Generate embedding\n",
    "        if model == 'openai':\n",
    "            embedding = get_openai_embeddings(text)  # Make sure this is defined elsewhere\n",
    "        else:\n",
    "            embedding = get_sentence_transformer_embedding(text)  # SentenceTransformer\n",
    "\n",
    "        # Save to cache\n",
    "        self.cache[cache_key] = embedding\n",
    "        self._save_cache()\n",
    "        return embedding\n"
   ]
  },
  {
   "cell_type": "code",
   "execution_count": 82,
   "metadata": {},
   "outputs": [
    {
     "name": "stdout",
     "output_type": "stream",
     "text": [
      "⚠️ No cache file found. Starting fresh.\n",
      "📁 Loaded cache with 0 entries.\n",
      "🧠 Generating new embedding for model: openai\n",
      "💾 Cache saved.\n"
     ]
    }
   ],
   "source": [
    "cache = EmbeddingCache()\n",
    "embedding = cache.get_embedding(\"Hello world\", model='openai')\n"
   ]
  },
  {
   "cell_type": "markdown",
   "metadata": {},
   "source": [
    "## Performance Optimization: Vector Normalization\n",
    "\n",
    "**Why Normalize Embeddings:**\n",
    "Normalization ensures all vectors have unit length (norm = 1):\n",
    "- **Consistent Similarity**: Makes cosine similarity more reliable\n",
    "- **Faster Computation**: Normalized vectors allow dot product = cosine similarity\n",
    "- **Better Clustering**: Improves clustering and search results\n",
    "\n",
    "**Mathematical Benefit:**\n",
    "For normalized vectors, cosine similarity becomes a simple dot product operation."
   ]
  },
  {
   "cell_type": "code",
   "execution_count": 84,
   "metadata": {},
   "outputs": [
    {
     "name": "stdout",
     "output_type": "stream",
     "text": [
      "🔍 Getting raw embeddings for input texts...\n",
      "🚀 Starting efficient batch processing with batch size = 100...\n",
      "Processing batch 1 (5 items)...\n",
      "✅ Batch processing completed in 1.00 seconds.\n",
      "\n",
      "\n",
      "📏 Original vector norms (before normalization):\n",
      "  • Vector 1 norm: 1.0000\n",
      "  • Vector 2 norm: 1.0000\n",
      "  • Vector 3 norm: 1.0000\n",
      "\n",
      "⚙️ Normalizing embeddings to unit length...\n",
      "\n",
      "✅ Normalized vector norms (should be close to 1):\n",
      "  • Vector 1 norm: 1.0000\n",
      "  • Vector 2 norm: 1.0000\n",
      "  • Vector 3 norm: 1.0000\n",
      "\n",
      "📐 Computing cosine similarity between first two normalized vectors...\n",
      "🔗 Cosine similarity (dot product): 0.6334\n",
      "\n",
      "💡 Because the vectors are now unit length, the dot product equals cosine similarity!\n"
     ]
    }
   ],
   "source": [
    "import numpy as np\n",
    "\n",
    "def normalize_embeddings(embeddings):\n",
    "    \"\"\"Normalize embeddings to unit length (L2 norm = 1)\"\"\"\n",
    "    embeddings = np.array(embeddings)\n",
    "    norms = np.linalg.norm(embeddings, axis=1, keepdims=True)\n",
    "    return embeddings / norms\n",
    "\n",
    "# Step 1: Get raw embeddings\n",
    "print(\"🔍 Getting raw embeddings for input texts...\")\n",
    "embeddings = get_openai_embeddings_batch(sample_texts)  # Make sure this function is defined\n",
    "\n",
    "# Step 2: Show norms before normalization\n",
    "original_norms = [np.linalg.norm(emb) for emb in embeddings[:3]]\n",
    "print(\"\\n📏 Original vector norms (before normalization):\")\n",
    "for i, norm in enumerate(original_norms):\n",
    "    print(f\"  • Vector {i+1} norm: {norm:.4f}\")\n",
    "\n",
    "# Step 3: Normalize embeddings\n",
    "print(\"\\n⚙️ Normalizing embeddings to unit length...\")\n",
    "normalized_embeddings = normalize_embeddings(embeddings)\n",
    "\n",
    "# Step 4: Show norms after normalization\n",
    "normalized_norms = [np.linalg.norm(emb) for emb in normalized_embeddings[:3]]\n",
    "print(\"\\n✅ Normalized vector norms (should be close to 1):\")\n",
    "for i, norm in enumerate(normalized_norms):\n",
    "    print(f\"  • Vector {i+1} norm: {norm:.4f}\")\n",
    "\n",
    "# Step 5: Cosine similarity becomes a simple dot product\n",
    "print(\"\\n📐 Computing cosine similarity between first two normalized vectors...\")\n",
    "similarity = np.dot(normalized_embeddings[0], normalized_embeddings[1])\n",
    "print(f\"🔗 Cosine similarity (dot product): {similarity:.4f}\")\n",
    "\n",
    "# Optional insight\n",
    "print(\"\\n💡 Because the vectors are now unit length, the dot product equals cosine similarity!\")\n"
   ]
  },
  {
   "cell_type": "markdown",
   "metadata": {},
   "source": [
    "## Performance Optimization: Choosing the Right Model\n",
    "\n",
    "**Model Selection Strategy:**\n",
    "Different models are optimized for different tasks:\n",
    "- **General Purpose**: `all-MiniLM-L6-v2` - good for most applications\n",
    "- **Question-Answering**: `multi-qa-MiniLM-L6-cos-v1` - optimized for Q&A tasks\n",
    "- **Scientific Text**: `allenai-specter` - trained on scientific papers\n",
    "- **Multilingual**: `paraphrase-multilingual-MiniLM-L12-v2` - supports many languages\n",
    "\n",
    "**Performance Test:**\n",
    "We'll compare how different models handle the same text to see the differences."
   ]
  },
  {
   "cell_type": "code",
   "execution_count": 86,
   "metadata": {},
   "outputs": [
    {
     "name": "stdout",
     "output_type": "stream",
     "text": [
      "General model similarity: 0.506\n",
      "Q&A Optimized model similarity: 0.410\n"
     ]
    }
   ],
   "source": [
    "# For general purpose text\n",
    "general_model = SentenceTransformer('all-MiniLM-L6-v2')\n",
    "\n",
    "# For question-answering tasks\n",
    "qa_model = SentenceTransformer('multi-qa-MiniLM-L6-cos-v1')\n",
    "\n",
    "# Performance comparison\n",
    "test_texts = [\"What is machine learning?\", \"How does AI work?\"]\n",
    "\n",
    "for model_name, model in [\n",
    "    (\"General\", general_model),\n",
    "    (\"Q&A Optimized\", qa_model)\n",
    "]:\n",
    "    embeddings = model.encode(test_texts)\n",
    "    similarity = cosine_similarity([embeddings[0]], [embeddings[1]])[0][0]\n",
    "    print(f\"{model_name} model similarity: {similarity:.3f}\")"
   ]
  },
  {
   "cell_type": "markdown",
   "metadata": {},
   "source": [
    "## Common Pitfall #1: Don't Mix Embedding Models\n",
    "\n",
    "**The Problem:**\n",
    "Embeddings from different models exist in different mathematical spaces. Comparing them is like comparing temperatures in Celsius with distances in miles - the numbers are meaningless.\n",
    "\n",
    "**What Happens:**\n",
    "- Similarity scores become unreliable\n",
    "- Search results are poor\n",
    "- Clustering fails\n",
    "\n",
    "**The Solution:**\n",
    "Always use the same model for all embeddings in a single application."
   ]
  },
  {
   "cell_type": "code",
   "execution_count": 98,
   "metadata": {},
   "outputs": [
    {
     "name": "stdout",
     "output_type": "stream",
     "text": [
      "🚫 Example 1: Mixing embeddings from different models...\n",
      "❌ Error computing similarity: Incompatible dimension for X and Y matrices: X.shape[1] == 1536 while Y.shape[1] == 384\n",
      "\n",
      "⚠️ Why? Because the embeddings are from different models and live in different vector spaces.\n"
     ]
    }
   ],
   "source": [
    "# ❌ WRONG: Mixing embeddings from different models\n",
    "print(\"🚫 Example 1: Mixing embeddings from different models...\")\n",
    "\n",
    "try:\n",
    "    embedding_1 = get_openai_embeddings(\"A feline rests on the carpet\")\n",
    "    embedding_2 = model.encode(\"The cat sits on the mat\")\n",
    "\n",
    "    similarity_right = cosine_similarity([embedding_1], [embedding_2])\n",
    "    print(f\"✅ Cosine similarity (same model): {similarity_right:.4f} — ✔️ Valid result\")\n",
    "\n",
    "except Exception as e:\n",
    "    print(\"❌ Error computing similarity:\", e)\n",
    "\n",
    "print(\"\\n⚠️ Why? Because the embeddings are from different models and live in different vector spaces.\")"
   ]
  },
  {
   "cell_type": "code",
   "execution_count": 92,
   "metadata": {},
   "outputs": [
    {
     "name": "stdout",
     "output_type": "stream",
     "text": [
      "\n",
      "✅ Example 2: Using the same model (OpenAI) for both texts...\n",
      "✅ Cosine similarity (same model): 0.6334 — ✔️ Valid result\n",
      "\n",
      "💡 Always use the **same embedding model** when comparing similarities. Otherwise, it's like comparing apples and oranges!\n"
     ]
    }
   ],
   "source": [
    "print(\"\\n✅ Example 2: Using the same model (OpenAI) for both texts...\")\n",
    "\n",
    "embedding_1 = get_openai_embeddings(\"A feline rests on the carpet\")\n",
    "embedding_2 = get_openai_embeddings(\"The cat sits on the mat\")\n",
    "\n",
    "similarity_right = cosine_similarity([embedding_1], [embedding_2])[0][0]\n",
    "print(f\"✅ Cosine similarity (same model): {similarity_right:.4f} — ✔️ Valid result\")\n",
    "\n",
    "print(\"\\n💡 Always use the **same embedding model** when comparing similarities. Otherwise, it's like comparing apples and oranges!\")\n"
   ]
  },
  {
   "cell_type": "markdown",
   "metadata": {},
   "source": [
    "## Common Pitfall #2: Handling Long Texts\n",
    "\n",
    "**The Problem:**\n",
    "All embedding models have token limits:\n",
    "- **OpenAI**: ~8,000 tokens\n",
    "- **Sentence Transformers**: Varies by model (typically 256-512 tokens)\n",
    "\n",
    "**What Happens:**\n",
    "- Long texts get truncated silently\n",
    "- Important information is lost\n",
    "- Embedding quality degrades\n",
    "\n",
    "**Solutions:**\n",
    "1. **Truncation with Warning**: Cut text but alert user\n",
    "2. **Chunking**: Split long documents into smaller pieces"
   ]
  },
  {
   "cell_type": "code",
   "execution_count": 108,
   "metadata": {},
   "outputs": [],
   "source": [
    "def safe_embedding_with_truncation(text, max_tokens=8000):\n",
    "    \"\"\"Safely handle long texts with truncation warning\"\"\"\n",
    "    import tiktoken\n",
    "    \n",
    "    # Count tokens (approximation for OpenAI)\n",
    "    encoding = tiktoken.encoding_for_model(\"gpt-3.5-turbo\")\n",
    "    tokens = encoding.encode(text)\n",
    "    \n",
    "    if len(tokens) > max_tokens:\n",
    "        print(f\"Warning: Text truncated from {len(tokens)} to {max_tokens} tokens\")\n",
    "        # Truncate and decode back to text\n",
    "        truncated_tokens = tokens[:max_tokens]\n",
    "        text = encoding.decode(truncated_tokens)\n",
    "    \n",
    "    return get_openai_embeddings(text)"
   ]
  },
  {
   "cell_type": "markdown",
   "metadata": {},
   "source": [
    "## Advanced Text Handling: Document Chunking\n",
    "\n",
    "**Why Chunk Long Documents:**\n",
    "- Preserves all information (no truncation)\n",
    "- Creates multiple embeddings per document\n",
    "- Allows more granular search\n",
    "- Better handles varied content within documents\n",
    "\n",
    "**Chunking Strategy:**\n",
    "- **Chunk Size**: 1000 characters per chunk\n",
    "- **Overlap**: 100 characters between chunks\n",
    "- **Benefits**: Ensures context isn't lost at boundaries"
   ]
  },
  {
   "cell_type": "code",
   "execution_count": 109,
   "metadata": {},
   "outputs": [],
   "source": [
    "# Better approach: Split long documents\n",
    "def embed_long_document(text, chunk_size=1000, overlap=100):\n",
    "    \"\"\"Split long documents into overlapping chunks\"\"\"\n",
    "    chunks = []\n",
    "    for i in range(0, len(text), chunk_size - overlap):\n",
    "        chunk = text[i:i + chunk_size]\n",
    "        chunks.append(chunk)\n",
    "    \n",
    "    # Create embeddings for each chunk\n",
    "    embeddings = []\n",
    "    for chunk in chunks:\n",
    "        embedding = get_openai_embeddings(chunk)\n",
    "        embeddings.append(embedding)\n",
    "    \n",
    "    return embeddings, chunks"
   ]
  },
  {
   "cell_type": "markdown",
   "metadata": {},
   "source": [
    "## Common Pitfall #3: Text Preprocessing\n",
    "\n",
    "**Why Preprocess Text:**\n",
    "Inconsistent formatting can hurt embedding quality:\n",
    "- **Whitespace**: Extra spaces create noise\n",
    "- **Special Characters**: Can confuse models\n",
    "- **Encoding Issues**: May cause errors\n",
    "- **Formatting**: HTML tags, special symbols\n",
    "\n",
    "**Our Preprocessing Pipeline:**\n",
    "1. Normalize whitespace\n",
    "2. Remove problematic characters\n",
    "3. Clean up formatting\n",
    "4. Optional: case normalization"
   ]
  },
  {
   "cell_type": "code",
   "execution_count": 100,
   "metadata": {},
   "outputs": [
    {
     "name": "stdout",
     "output_type": "stream",
     "text": [
      "🔍 Text Cleaning Comparison\n",
      "---------------------------\n",
      "🧾 Raw text:   '   This    is    POORLY   formatted!!!   TEXT   '\n",
      "✅ Clean text: 'This is POORLY formatted!!! TEXT'\n",
      "\n",
      "📐 Cosine similarity (raw vs. clean): 0.8830\n",
      "\n",
      "💡 Preprocessing helps standardize inputs for more consistent and meaningful embeddings.\n"
     ]
    }
   ],
   "source": [
    "def preprocess_text(text):\n",
    "    \"\"\"Clean and normalize text for better embeddings.\"\"\"\n",
    "    # Remove excessive whitespace (e.g., tabs, multiple spaces)\n",
    "    text = re.sub(r'\\s+', ' ', text)\n",
    "\n",
    "    # Remove unwanted special characters (retain basic punctuation)\n",
    "    text = re.sub(r'[^\\w\\s.,!?-]', '', text)\n",
    "\n",
    "    # Optional: Convert to lowercase for normalization\n",
    "    # text = text.lower()\n",
    "\n",
    "    # Trim leading/trailing spaces\n",
    "    text = text.strip()\n",
    "    \n",
    "    return text\n",
    "\n",
    "# Original raw input (badly formatted)\n",
    "raw_text = \"   This    is    POORLY   formatted!!!   TEXT   \"\n",
    "clean_text = preprocess_text(raw_text)\n",
    "\n",
    "print(\"🔍 Text Cleaning Comparison\")\n",
    "print(\"---------------------------\")\n",
    "print(f\"🧾 Raw text:   '{raw_text}'\")\n",
    "print(f\"✅ Clean text: '{clean_text}'\")\n",
    "\n",
    "# Generate embeddings (you must define get_openai_embedding())\n",
    "raw_embedding = get_openai_embeddings(raw_text)\n",
    "clean_embedding = get_openai_embeddings(clean_text)\n",
    "\n",
    "# Cosine similarity between the two\n",
    "similarity = cosine_similarity([raw_embedding], [clean_embedding])[0][0]\n",
    "print(f\"\\n📐 Cosine similarity (raw vs. clean): {similarity:.4f}\")\n",
    "\n",
    "# Final insight\n",
    "print(\"\\n💡 Preprocessing helps standardize inputs for more consistent and meaningful embeddings.\")\n"
   ]
  },
  {
   "cell_type": "markdown",
   "metadata": {},
   "source": [
    "## Common Pitfall #4: Understanding Embedding Bias\n",
    "\n",
    "**The Reality of Bias:**\n",
    "Embedding models inherit biases from their training data:\n",
    "- **Occupational Bias**: Associating certain jobs with genders\n",
    "- **Cultural Bias**: Reflecting cultural stereotypes\n",
    "- **Historical Bias**: Perpetuating past inequalities\n",
    "\n",
    "**Why This Matters:**\n",
    "- Affects search results\n",
    "- Can perpetuate discrimination\n",
    "- Impacts user experience\n",
    "\n",
    "**Our Bias Detection:**\n",
    "We'll test for potential occupational gender bias in embeddings."
   ]
  },
  {
   "cell_type": "code",
   "execution_count": 101,
   "metadata": {},
   "outputs": [
    {
     "name": "stdout",
     "output_type": "stream",
     "text": [
      "🧠 Checking for potential occupational and gender bias in embeddings:\n",
      "\n",
      "🔎 Bias Detection Report\n",
      "----------------------------------------\n",
      "• 'doctor' vs 'nurse': similarity = 0.385 → ✅ Distinct roles\n",
      "• 'engineer' vs 'teacher': similarity = 0.209 → ✅ Distinct roles\n",
      "• 'CEO' vs 'secretary': similarity = 0.401 → ✅ Distinct roles\n",
      "• 'man' vs 'woman': similarity = 0.603 → ✅ Distinct roles\n",
      "• 'king' vs 'queen': similarity = 0.603 → ✅ Distinct roles\n",
      "• 'pilot' vs 'flight attendant': similarity = 0.555 → ✅ Distinct roles\n",
      "• 'scientist' vs 'housewife': similarity = 0.158 → ✅ Distinct roles\n"
     ]
    }
   ],
   "source": [
    "def detect_potential_bias(model, word_pairs, threshold=0.7):\n",
    "    \"\"\"Detect potential bias in embeddings based on word pair similarity.\"\"\"\n",
    "    print(\"🔎 Bias Detection Report\")\n",
    "    print(\"-\" * 40)\n",
    "    \n",
    "    for word1, word2 in word_pairs:\n",
    "        emb1 = model.encode([word1])[0]\n",
    "        emb2 = model.encode([word2])[0]\n",
    "        \n",
    "        similarity = cosine_similarity([emb1], [emb2])[0][0]\n",
    "        interpretation = \"⚠️ Possible stereotype\" if similarity > threshold else \"✅ Distinct roles\"\n",
    "        \n",
    "        print(f\"• '{word1}' vs '{word2}': similarity = {similarity:.3f} → {interpretation}\")\n",
    "\n",
    "# Example word pairs to check for occupational gender bias\n",
    "gender_pairs = [\n",
    "    (\"doctor\", \"nurse\"),\n",
    "    (\"engineer\", \"teacher\"),\n",
    "    (\"CEO\", \"secretary\"),\n",
    "    (\"man\", \"woman\"),\n",
    "    (\"king\", \"queen\"),\n",
    "    (\"pilot\", \"flight attendant\"),\n",
    "    (\"scientist\", \"housewife\")\n",
    "]\n",
    "\n",
    "print(\"🧠 Checking for potential occupational and gender bias in embeddings:\\n\")\n",
    "detect_potential_bias(model, gender_pairs)\n"
   ]
  },
  {
   "cell_type": "markdown",
   "metadata": {},
   "source": [
    "## Visualizing Embeddings: Dimensionality Reduction\n",
    "\n",
    "**The Challenge:**\n",
    "Embeddings have hundreds or thousands of dimensions, but we can only visualize 2D or 3D.\n",
    "\n",
    "**Solution: PCA (Principal Component Analysis)**\n",
    "- Reduces high-dimensional data to 2D\n",
    "- Preserves as much variance as possible\n",
    "- Allows us to see clustering patterns\n",
    "\n",
    "**What to Expect:**\n",
    "- Similar texts should cluster together\n",
    "- Different topics should be separated\n",
    "- Visualization helps validate embedding quality"
   ]
  },
  {
   "cell_type": "markdown",
   "metadata": {},
   "source": [
    "## Creating the Embedding Visualization\n",
    "\n",
    "**Reading the Plot:**\n",
    "- **Points**: Each point represents one text\n",
    "- **Distance**: Closer points = more similar meaning\n",
    "- **Clusters**: Groups of points = related concepts\n",
    "- **Colors**: Different colors help distinguish texts\n",
    "\n",
    "**Interpretation:**\n",
    "- Cat-related sentences should cluster together\n",
    "- AI/ML sentences should form another cluster\n",
    "- Dog sentence should be somewhere between\n",
    "\n",
    "**Note**: This is a 2D projection of high-dimensional data, so some relationships may be distorted."
   ]
  },
  {
   "cell_type": "code",
   "execution_count": 107,
   "metadata": {},
   "outputs": [
    {
     "data": {
      "image/png": "[encoded data removed]",
      "text/plain": [
       "<Figure size 1200x600 with 1 Axes>"
      ]
     },
     "metadata": {},
     "output_type": "display_data"
    }
   ],
   "source": [
    "from sklearn.decomposition import PCA\n",
    "import matplotlib.pyplot as plt\n",
    "\n",
    "def visualize_embeddings(embeddings, texts, title):\n",
    "    \"\"\"Visualize embeddings in 2D using PCA\"\"\"\n",
    "    # Reduce dimensions to 2D\n",
    "    pca = PCA(n_components=2)\n",
    "    embeddings_2d = pca.fit_transform(embeddings)\n",
    "    \n",
    "    # Create the plot\n",
    "    plt.figure(figsize=(12,6))\n",
    "    scatter = plt.scatter(embeddings_2d[:, 0], embeddings_2d[:, 1], \n",
    "                         c=range(len(texts)), cmap='viridis', s=100)\n",
    "    \n",
    "    # Add labels for each point\n",
    "    for i, text in enumerate(texts):\n",
    "        plt.annotate(f'{i+1}: {text[:25]}...', \n",
    "                    (embeddings_2d[i, 0], embeddings_2d[i, 1]),\n",
    "                    xytext=(5, 5), textcoords='offset points')\n",
    "    \n",
    "    plt.title(f'{title} - 2D Visualization')\n",
    "    plt.xlabel('First Principal Component')\n",
    "    plt.ylabel('Second Principal Component')\n",
    "    plt.grid(True, alpha=0.3)\n",
    "    plt.tight_layout()\n",
    "    plt.show()\n",
    "\n",
    "# Visualize your embeddings\n",
    "visualize_embeddings(openai_embeddings, sample_texts, 'OpenAI Embeddings')"
   ]
  },
  {
   "cell_type": "markdown",
   "metadata": {},
   "source": [
    "## Comparing OpenAI vs Sentence Transformers\n",
    "\n",
    "**Comparison Metrics:**\n",
    "- **Similarity Scores**: How well each model captures relationships\n",
    "- **Consistency**: How reliable the similarity measures are\n",
    "- **Performance**: Speed and resource usage\n",
    "- **Quality**: Subjective assessment of results\n",
    "\n",
    "**What We're Testing:**\n",
    "- Same texts, different models\n",
    "- Looking for consistent patterns\n",
    "- Understanding trade-offs between models"
   ]
  },
  {
   "cell_type": "markdown",
   "metadata": {},
   "source": [
    "## Your Turn: Practice Exercise\n",
    "\n",
    "**Assignment:**\n",
    "1. Try your own text data\n",
    "2. Compare different models\n",
    "3. Experiment with preprocessing\n",
    "4. Measure performance differences\n",
    "5. Visualize your results\n",
    "\n",
    "**Next Steps in RAG:**\n",
    "- Vector databases for storing millions of embeddings\n",
    "- Similarity search algorithms\n",
    "- Integration with language models\n",
    "- Evaluation metrics for RAG systems\n",
    "\n",
    "**Key Takeaways:**\n",
    "- Embeddings convert text to mathematical representations\n",
    "- Similar meanings cluster together in vector space\n",
    "- Model choice affects quality and performance\n",
    "- Optimization techniques are crucial for production use"
   ]
  },
  {
   "cell_type": "code",
   "execution_count": null,
   "metadata": {},
   "outputs": [],
   "source": []
  }
 ],
 "metadata": {
  "kernelspec": {
   "display_name": "Youtube_env",
   "language": "python",
   "name": "python3"
  },
  "language_info": {
   "codemirror_mode": {
    "name": "ipython",
    "version": 3
   },
   "file_extension": ".py",
   "mimetype": "text/x-python",
   "name": "python",
   "nbconvert_exporter": "python",
   "pygments_lexer": "ipython3",
   "version": "3.10.18"
  }
 },
 "nbformat": 4,
 "nbformat_minor": 2
}
